{
 "cells": [
  {
   "cell_type": "markdown",
   "metadata": {},
   "source": [
    "# Text Classification\n",
    "*Complete and hand in this completed worksheet (including its outputs and any supporting code outside of the worksheet) with your assignment submission. Please check the pdf file for more details.*\n",
    "\n",
    "In this exercise you will:\n",
    "    \n",
    "- implement a of spam classifier with **Naive Bayes method** for real world email messages\n",
    "- learn the **training and testing phase** for Naive Bayes classifier  \n",
    "- get an idea of the **precision-recall** tradeoff"
   ]
  },
  {
   "cell_type": "code",
   "execution_count": 40,
   "metadata": {},
   "outputs": [
    {
     "name": "stdout",
     "output_type": "stream",
     "text": [
      "The autoreload extension is already loaded. To reload it, use:\n",
      "  %reload_ext autoreload\n"
     ]
    }
   ],
   "source": [
    "# some basic imports\n",
    "import numpy as np\n",
    "import matplotlib.pyplot as plt\n",
    "import scipy.sparse\n",
    "%matplotlib inline\n",
    "\n",
    "%load_ext autoreload\n",
    "%autoreload 2"
   ]
  },
  {
   "cell_type": "code",
   "execution_count": 41,
   "metadata": {},
   "outputs": [],
   "source": [
    "import numpy as np\n",
    "\n",
    "# ham_train contains the occurrences of each word in ham emails. 1-by-N vector\n",
    "ham_train = np.loadtxt('ham_train.csv', delimiter=',')\n",
    "# spam_train contains the occurrences of each word in spam emails. 1-by-N vector\n",
    "spam_train = np.loadtxt('spam_train.csv', delimiter=',')\n",
    "# N is the size of vocabulary.\n",
    "N = ham_train.shape[0]\n",
    "# There 9034 ham emails and 3372 spam emails in the training samples\n",
    "num_ham_train = 9034\n",
    "num_spam_train = 3372\n",
    "# Do smoothing\n",
    "x = np.vstack([ham_train, spam_train]) + 1\n",
    "\n",
    "# ham_test contains the occurences of each word in each ham test email. P-by-N vector, with P is number of ham test emails.\n",
    "i,j,ham_test = np.loadtxt('ham_test.txt').T\n",
    "i = i.astype(np.int)\n",
    "j = j.astype(np.int)\n",
    "ham_test_tight = scipy.sparse.coo_matrix((ham_test, (i - 1, j - 1)))\n",
    "ham_test = scipy.sparse.csr_matrix((ham_test_tight.shape[0], ham_train.shape[0]))\n",
    "ham_test[:, 0:ham_test_tight.shape[1]] = ham_test_tight\n",
    "# spam_test contains the occurences of each word in each spam test email. Q-by-N vector, with Q is number of spam test emails.\n",
    "i,j,spam_test = np.loadtxt('spam_test.txt').T\n",
    "i = i.astype(np.int)\n",
    "j = j.astype(np.int)\n",
    "spam_test_tight = scipy.sparse.csr_matrix((spam_test, (i - 1, j - 1)))\n",
    "spam_test = scipy.sparse.csr_matrix((spam_test_tight.shape[0], spam_train.shape[0]))\n",
    "spam_test[:, 0:spam_test_tight.shape[1]] = spam_test_tight\n"
   ]
  },
  {
   "cell_type": "markdown",
   "metadata": {},
   "source": [
    "## Now let's implement a ham/spam email classifier. Please refer to the PDF file for details"
   ]
  },
  {
   "cell_type": "code",
   "execution_count": 42,
   "metadata": {},
   "outputs": [],
   "source": [
    "from likelihood import likelihood\n",
    "# TODO\n",
    "# Implement a ham/spam email classifier, and calculate the accuracy of your classifier\n",
    "\n",
    "# Hint: you can directly do matrix multiply between scipy.sparse.coo_matrix and numpy.array.\n",
    "# Specifically, you can use sparse_matrix * np_array to do this. Note that when you use \"*\" operator\n",
    "# between numpy array, this is typically an elementwise multiply.\n",
    "\n",
    "# begin answer\n",
    "# 打开word_map并读取所有的word和数字对应的映射\n",
    "word_map = {}\n",
    "for line in open(\"all_word_map.txt\", \"r\"):\n",
    "    word, num = line.split('\\t')\n",
    "    word_map[int(num) - 1] = word"
   ]
  },
  {
   "cell_type": "code",
   "execution_count": 43,
   "metadata": {},
   "outputs": [
    {
     "name": "stdout",
     "output_type": "stream",
     "text": [
      "['nbsp', 'viagra', 'pills', 'cialis', 'voip', 'php', 'meds', 'computron', 'sex', 'ooking']\n"
     ]
    }
   ],
   "source": [
    "# 计算ham和spam的四然，然后对spam中出现频率最高的进行排序并有argsort获取其对应的下标\n",
    "l = likelihood(x)\n",
    "ratio = l[1] / l[0]\n",
    "sorted_ratio = np.argsort(ratio)[::-1][0: 10]\n",
    "top_ten_word = []\n",
    "for i in sorted_ratio:\n",
    "    top_ten_word.append(word_map[i])\n",
    "print(top_ten_word)"
   ]
  },
  {
   "cell_type": "code",
   "execution_count": 47,
   "metadata": {},
   "outputs": [
    {
     "name": "stdout",
     "output_type": "stream",
     "text": [
      "[-0.31718499 -1.30267419]\n",
      "[[-13.53418866 -13.93965377 -14.63280095 ... -13.93965377 -12.33021586\n",
      "  -12.84104148]\n",
      " [-13.39939493 -13.39939493 -12.70624775 ... -13.39939493 -11.45348478\n",
      "  -13.39939493]]\n"
     ]
    }
   ],
   "source": [
    "# 计算先验概率和似然的对数值\n",
    "total = num_ham_train + num_spam_train\n",
    "prior_ham = num_ham_train / total\n",
    "prior_spam = num_spam_train / total\n",
    "prior = np.log(np.array([prior_ham, prior_spam]))\n",
    "l_log = np.log(l)\n",
    "print(prior)\n",
    "print(l_log)"
   ]
  },
  {
   "cell_type": "code",
   "execution_count": 57,
   "metadata": {},
   "outputs": [
    {
     "name": "stdout",
     "output_type": "stream",
     "text": [
      "28\n",
      "31\n",
      "0.9724199288256228\n",
      "0.9750223015165032\n"
     ]
    }
   ],
   "source": [
    "# 计算后验概率\n",
    "# 这里的ham_test和spam_test是存储了测试集中每个邮件的单词出现频率的稀疏矩阵\n",
    "ham_post = ham_test * l_log.T + prior\n",
    "ham_miss = np.sum(ham_post[:, 0] < ham_post[:, 1])\n",
    "ham_right = ham_post.shape[0] - ham_miss\n",
    "print(ham_miss)\n",
    "spam_post = spam_test * l_log.T + prior\n",
    "spam_miss = np.sum(spam_post[:, 1] < spam_post[:, 0])\n",
    "spam_right = spam_post.shape[0] - spam_miss\n",
    "print(spam_miss)\n",
    "TP = spam_right\n",
    "FN = ham_miss\n",
    "FP = spam_miss\n",
    "TN = ham_right\n",
    "P = TP / (TP + FP)\n",
    "R = TP / (TP + FN)\n",
    "print(P)\n",
    "print(R)"
   ]
  },
  {
   "cell_type": "code",
   "execution_count": null,
   "metadata": {},
   "outputs": [],
   "source": []
  }
 ],
 "metadata": {
  "kernelspec": {
   "display_name": "Python 3",
   "language": "python",
   "name": "python3"
  },
  "language_info": {
   "codemirror_mode": {
    "name": "ipython",
    "version": 3
   },
   "file_extension": ".py",
   "mimetype": "text/x-python",
   "name": "python",
   "nbconvert_exporter": "python",
   "pygments_lexer": "ipython3",
   "version": "3.8.5"
  }
 },
 "nbformat": 4,
 "nbformat_minor": 2
}
